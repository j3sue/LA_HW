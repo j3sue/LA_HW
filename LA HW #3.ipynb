{
 "cells": [
  {
   "cell_type": "code",
   "execution_count": 1,
   "metadata": {
    "collapsed": false
   },
   "outputs": [
    {
     "name": "stdout",
     "output_type": "stream",
     "text": [
      "65.4111\n"
     ]
    }
   ],
   "source": [
    "import sys\n",
    "import numpy as np \n",
    "from numpy import linalg as LA\n",
    "\n",
    "M = np.array([[-7.31, -5.32,1], [4.12, 0.23,1], [-2.27, 2.85,1]])\n",
    "\n",
    "def get_determinant(M):\n",
    "    if (M.shape == (2,2)):\n",
    "        return M[0][0]*M[1][1] - M[0][1]*M[1][0]\n",
    "    \n",
    "    sum = 0\n",
    "    \n",
    "    for j in range(0, M.shape[1]):\n",
    "        #range starts at 1 because n-1 matrix \n",
    "        #j in range 0 to n\n",
    "        #access element in row 0, col j \n",
    "        aij = M[0][j]\n",
    "        if (j%2 == 1):\n",
    "            aij = -aij \n",
    "        #compute cofactor matrix \n",
    "        #when axis = 1, delete along column but when axis = 0, delete along row \n",
    "        Aij = np.delete(M,j,1)\n",
    "        Aij = np.delete(Aij,0,0) \n",
    "        d_A = get_determinant(Aij) \n",
    "        sum += aij * d_A \n",
    "    \n",
    "    return sum \n",
    "\n",
    "determinant = get_determinant(M)\n",
    "\n",
    "print (determinant) "
   ]
  },
  {
   "cell_type": "code",
   "execution_count": 3,
   "metadata": {
    "collapsed": false
   },
   "outputs": [
    {
     "name": "stdout",
     "output_type": "stream",
     "text": [
      "32.70555\n"
     ]
    }
   ],
   "source": [
    "def find_area(a,b,c):\n",
    "    ax, ay = a    \n",
    "    bx, by = b \n",
    "    cx, cy = c \n",
    "    \n",
    "    M = np.array([[ax, ay, 1], [bx, by, 1], [cx, cy, 1]])\n",
    "    area = get_determinant(M)/2.0 \n",
    "    \n",
    "    return area \n",
    "\n",
    "print (find_area((-7.31, -5.32), (4.12, 0.23), (-2.27, 2.85)))\n",
    "    "
   ]
  },
  {
   "cell_type": "code",
   "execution_count": 19,
   "metadata": {
    "collapsed": false
   },
   "outputs": [
    {
     "name": "stdout",
     "output_type": "stream",
     "text": [
      "10.5480319274\n",
      "[-0.46313273 -0.83634467  0.03902155]\n",
      "1.79282838252\n",
      "[-0.54484494  0.53469985 -0.63554801]\n",
      "-5.3408603099\n",
      "[-0.69903653  0.12092834  0.7710746 ]\n"
     ]
    }
   ],
   "source": [
    "import numpy as np\n",
    "from numpy import linalg as LA\n",
    "M = np.array([[4, 3, 2], [1, 2, 6], [5,8,1]])\n",
    "eigenvalue, eigenvectors = LA.eig(M)\n",
    "for i in range(0, len(eigenvalue)):\n",
    "    print (eigenvalue[i])\n",
    "    print (eigenvectors[i])"
   ]
  },
  {
   "cell_type": "code",
   "execution_count": null,
   "metadata": {
    "collapsed": true
   },
   "outputs": [],
   "source": []
  }
 ],
 "metadata": {
  "kernelspec": {
   "display_name": "Python 3",
   "language": "python",
   "name": "python3"
  },
  "language_info": {
   "codemirror_mode": {
    "name": "ipython",
    "version": 3
   },
   "file_extension": ".py",
   "mimetype": "text/x-python",
   "name": "python",
   "nbconvert_exporter": "python",
   "pygments_lexer": "ipython3",
   "version": "3.5.1"
  }
 },
 "nbformat": 4,
 "nbformat_minor": 0
}
