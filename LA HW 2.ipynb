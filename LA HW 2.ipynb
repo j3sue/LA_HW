{
 "cells": [
  {
   "cell_type": "code",
   "execution_count": 19,
   "metadata": {
    "collapsed": false
   },
   "outputs": [
    {
     "name": "stdout",
     "output_type": "stream",
     "text": [
      "Pair of countries most opposed: (0.0, 'U', 'U')\n",
      "10 most opposed countries: \n",
      "(0.0, 'U', 'U')\n",
      "(0.0, 'U', 'N')\n",
      "(0.0, 'U', '_')\n",
      "(0.0, 'U', 'v')\n",
      "(0.0, 'U', 'o')\n",
      "(0.0, 'U', 't')\n",
      "(0.0, 'U', 'i')\n",
      "(0.0, 'U', 'n')\n",
      "(0.0, 'U', 'g')\n",
      "(0.0, 'U', '_')\n",
      "Pair of distinct countries that are in the greatest agreement is: (0.0, 't', 't')\n"
     ]
    }
   ],
   "source": [
    "import numpy as np\n",
    "\n",
    "f = 'UN_voting_data.txt'\n",
    "fin = open(f, 'r')\n",
    "\n",
    "cols = []\n",
    "countries = []\n",
    "\n",
    "for line in f: \n",
    "    line = line.split(' ')\n",
    "    countries.append(line[0])\n",
    "    cols.append([int(x) for x in line[1:]])\n",
    "\n",
    "At = np.matrix(cols)\n",
    "A = At.getT()\n",
    "\n",
    "M = np.dot(At, A)\n",
    "M = M.flatten().tolist()[0]\n",
    "\n",
    "Mprime = []\n",
    "for i in range(0, len(M)):\n",
    "    row = countries[i//(len(countries))]\n",
    "    col = countries[i%(len(countries))]\n",
    "    Mprime.append((M[i], row, col))\n",
    "    \n",
    "Mprime = sorted(Mprime, key = lambda tup: tup[0])\n",
    "\n",
    "print ('Pair of countries most opposed: ' + str(Mprime[0]))\n",
    "print (\"10 most opposed countries: \")\n",
    "for i in range(0, 10, 1):\n",
    "    print (Mprime[i])\n",
    "\n",
    "print (\"Pair of distinct countries that are in the greatest agreement is: \" + str(Mprime[len(Mprime)-1]))\n",
    "\n",
    "         \n",
    "\n"
   ]
  },
  {
   "cell_type": "code",
   "execution_count": null,
   "metadata": {
    "collapsed": true
   },
   "outputs": [],
   "source": []
  },
  {
   "cell_type": "code",
   "execution_count": null,
   "metadata": {
    "collapsed": true
   },
   "outputs": [],
   "source": []
  }
 ],
 "metadata": {
  "kernelspec": {
   "display_name": "Python 3",
   "language": "python",
   "name": "python3"
  },
  "language_info": {
   "codemirror_mode": {
    "name": "ipython",
    "version": 3
   },
   "file_extension": ".py",
   "mimetype": "text/x-python",
   "name": "python",
   "nbconvert_exporter": "python",
   "pygments_lexer": "ipython3",
   "version": "3.5.1"
  }
 },
 "nbformat": 4,
 "nbformat_minor": 0
}
