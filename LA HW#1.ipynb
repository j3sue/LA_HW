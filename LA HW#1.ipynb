{
 "cells": [
  {
   "cell_type": "code",
   "execution_count": 36,
   "metadata": {
    "collapsed": false
   },
   "outputs": [
    {
     "name": "stdout",
     "output_type": "stream",
     "text": [
      "[[ 225  450  675  900 1125]\n",
      " [ 225  450  675  900 1125]\n",
      " [ 225  450  675  900 1125]\n",
      " [ 225  450  675  900 1125]\n",
      " [ 225  450  675  900 1125]]\n"
     ]
    }
   ],
   "source": [
    "#Number 8\n",
    "from numpy import linalg as LA\n",
    "import numpy as np\n",
    "A = np.array([[1,2,3,4,5], [1,2,3,4,5], [1,2,3,4,5], [1,2,3,4,5], [1,2,3,4,5]])\n",
    "print (LA.matrix_power(A,3))"
   ]
  },
  {
   "cell_type": "code",
   "execution_count": 46,
   "metadata": {
    "collapsed": false
   },
   "outputs": [
    {
     "name": "stdout",
     "output_type": "stream",
     "text": [
      "Matrix([[2, 14, -16, -6, 178], [77, 53, 181, 183, -252], [89, 31, 224, 285, -731], [44, 36, 88, 108, -60]])\n"
     ]
    }
   ],
   "source": [
    "#Number 9\n",
    "from sympy import *\n",
    "A = Matrix([[2,4,5], [2,6,1], [-2,9,15], [12,0,15], [3,34,-52]])\n",
    "B = Matrix([[2,4,5,4],[2,6,1,4],[-2,9,15,4]])\n",
    "C = A*B\n",
    "print (C.transpose())"
   ]
  },
  {
   "cell_type": "code",
   "execution_count": 39,
   "metadata": {
    "collapsed": false
   },
   "outputs": [
    {
     "name": "stdout",
     "output_type": "stream",
     "text": [
      "3\n"
     ]
    }
   ],
   "source": [
    "#Number 10\n",
    "from numpy import linalg as LA\n",
    "import numpy as np\n",
    "M = np.array([[2,4,5], [2,6,1], [-2,9,15], [12,0,15], [3, 34, -52]])\n",
    "print (LA.matrix_rank(M))\n"
   ]
  },
  {
   "cell_type": "code",
   "execution_count": 44,
   "metadata": {
    "collapsed": false
   },
   "outputs": [
    {
     "name": "stdout",
     "output_type": "stream",
     "text": [
      "(Matrix([\n",
      "[1, 0,   1,   3],\n",
      "[0, 1, 2/3, 1/3],\n",
      "[0, 0,   0,   0]]), [0, 1])\n"
     ]
    }
   ],
   "source": [
    "#Number 11\n",
    "from sympy import *\n",
    "import numpy as np\n",
    "M = Matrix([[1, 0, 1, 3], [2, 3, 4, 7],[-1, -3, -3, -4]])\n",
    "print (M.rref())"
   ]
  },
  {
   "cell_type": "code",
   "execution_count": null,
   "metadata": {
    "collapsed": true
   },
   "outputs": [],
   "source": []
  }
 ],
 "metadata": {
  "kernelspec": {
   "display_name": "Python [Root]",
   "language": "python",
   "name": "Python [Root]"
  },
  "language_info": {
   "codemirror_mode": {
    "name": "ipython",
    "version": 3
   },
   "file_extension": ".py",
   "mimetype": "text/x-python",
   "name": "python",
   "nbconvert_exporter": "python",
   "pygments_lexer": "ipython3",
   "version": "3.5.1"
  }
 },
 "nbformat": 4,
 "nbformat_minor": 0
}
